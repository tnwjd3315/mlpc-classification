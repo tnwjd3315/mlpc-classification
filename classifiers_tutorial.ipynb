{
 "cells": [
  {
   "cell_type": "markdown",
   "id": "4dec7904",
   "metadata": {
    "editable": true,
    "slideshow": {
     "slide_type": "slide"
    },
    "tags": []
   },
   "source": [
    "# Classification Basics\n",
    "A basic guide to classification using the sklearn library"
   ]
  },
  {
   "cell_type": "markdown",
   "id": "68645539",
   "metadata": {
    "editable": true,
    "slideshow": {
     "slide_type": "slide"
    },
    "tags": []
   },
   "source": [
    "## Today's Menu\n",
    "\n",
    "- Data splits\n",
    "- Performance metrics\n",
    "- Basic classification with sklearn\n",
    "- Multi-class classfication"
   ]
  },
  {
   "cell_type": "code",
   "execution_count": 2,
   "id": "d2b21a78",
   "metadata": {
    "editable": true,
    "slideshow": {
     "slide_type": "skip"
    },
    "tags": []
   },
   "outputs": [],
   "source": [
    "import numpy as np\n",
    "import matplotlib.pyplot as plt\n",
    "import pandas as pd\n",
    "import os\n",
    "from sklearn.neighbors import KNeighborsClassifier\n",
    "from sklearn.tree import DecisionTreeClassifier\n",
    "from sklearn.ensemble import RandomForestClassifier\n",
    "from sklearn.multiclass import OneVsRestClassifier\n",
    "from sklearn.metrics import accuracy_score, balanced_accuracy_score, f1_score, precision_score, recall_score, confusion_matrix, ConfusionMatrixDisplay\n",
    "from sklearn.model_selection import cross_val_score, train_test_split"
   ]
  },
  {
   "cell_type": "markdown",
   "id": "871a6c22",
   "metadata": {
    "editable": true,
    "slideshow": {
     "slide_type": "slide"
    },
    "tags": []
   },
   "source": [
    "## Recap: What is the classification process?"
   ]
  },
  {
   "cell_type": "markdown",
   "id": "6e74d0c5",
   "metadata": {
    "editable": true,
    "slideshow": {
     "slide_type": "fragment"
    },
    "tags": []
   },
   "source": [
    "- we select features to describe our data\n",
    "- we label each datapoint based on what we want the model to learn\n",
    " this creates our dataset\n",
    "- we pass this to a model and hope it finds some connections between the features and the labels [training]"
   ]
  },
  {
   "cell_type": "markdown",
   "id": "ddfbd506-3280-4589-a86d-52a9597686d9",
   "metadata": {
    "editable": true,
    "slideshow": {
     "slide_type": "subslide"
    },
    "tags": []
   },
   "source": [
    "When loading our dataset, there is some specific information encoded in the labels that needs to be processed."
   ]
  },
  {
   "cell_type": "markdown",
   "id": "f0a8bd16-d8a3-497f-8016-b975682ba84c",
   "metadata": {
    "editable": true,
    "slideshow": {
     "slide_type": "fragment"
    },
    "tags": []
   },
   "source": [
    "1. For each class, each frame has a list of labels. Each item in this list represents one annotator's decision"
   ]
  },
  {
   "cell_type": "markdown",
   "id": "2df86c80-c99d-46ff-892d-1e882f32e0bc",
   "metadata": {
    "editable": true,
    "slideshow": {
     "slide_type": "fragment"
    },
    "tags": []
   },
   "source": [
    "2. The lables can range from 0-n, where n is the number regions marked with this annotation"
   ]
  },
  {
   "cell_type": "markdown",
   "id": "b2dcf79b-54b4-42f4-bd9a-1b7b074bf7f4",
   "metadata": {
    "editable": true,
    "slideshow": {
     "slide_type": "fragment"
    },
    "tags": []
   },
   "source": [
    "- Suppose a file has two annotators. Both annotate the entire file as \"dog bark\", but annotator 1 also marks a separate region at the beginning as \"distant sound of dogs.\"\n",
    "For frames in that beginning region, the label for class Dog Bark will be [2, 1]"
   ]
  },
  {
   "cell_type": "code",
   "execution_count": 3,
   "id": "89b30cc2",
   "metadata": {
    "editable": true,
    "slideshow": {
     "slide_type": "skip"
    },
    "tags": []
   },
   "outputs": [],
   "source": [
    "metadata = pd.read_csv('metadata.csv')\n",
    "train_files = metadata[\"filename\"]\n",
    "\n",
    "features_dir = 'audio_features'\n",
    "labels_dir = 'labels'\n",
    "categories = ['Airplane', 'Alarm', 'Beep/Bleep', 'Bell', 'Bicycle', 'Bird Chirp', 'Bus', 'Car', 'Cat Meow',\n",
    "        'Chainsaw', 'Clapping', 'Cough', 'Cow Moo', 'Cowbell', 'Crying', 'Dog Bark', 'Doorbell', 'Drip',\n",
    "        'Drums', 'Fire', 'Footsteps', 'Guitar', 'Hammer', 'Helicopter', 'Hiccup', 'Horn Honk', 'Horse Neigh',\n",
    "        'Insect Buzz', 'Jackhammer', 'Laughter', 'Lawn Mower', 'Motorcycle', 'Piano', 'Pig Oink', 'Power Drill',\n",
    "        'Power Saw', 'Rain', 'Rooster Crow', 'Saxophone', 'Sewing Machine', 'Sheep/Goat Bleat', 'Ship/Boat',\n",
    "        'Shout', 'Singing', 'Siren', 'Sneeze', 'Snoring', 'Speech', 'Stream/River', 'Thunder', 'Train', 'Truck',\n",
    "        'Trumpet', 'Vacuum Cleaner', 'Violin', 'Washing Machine', 'Waves', 'Wind']"
   ]
  },
  {
   "cell_type": "code",
   "execution_count": 4,
   "id": "aabdce8b",
   "metadata": {
    "editable": true,
    "slideshow": {
     "slide_type": "fragment"
    },
    "tags": []
   },
   "outputs": [],
   "source": [
    "def aggregate_labels(file_labels):\n",
    "    __y = []\n",
    "    for frame_labels in file_labels:\n",
    "        if(sum(frame_labels) == 0):\n",
    "            __y.append([0])\n",
    "        elif(np.count_nonzero(frame_labels) == len(frame_labels)):\n",
    "             __y.append([1])\n",
    "        else: #The annotators don't agree on the label\n",
    "            __y.append([np.random.choice(frame_labels)])\n",
    "    return __y"
   ]
  },
  {
   "cell_type": "code",
   "execution_count": 5,
   "id": "634d5dda",
   "metadata": {
    "editable": true,
    "slideshow": {
     "slide_type": "skip"
    },
    "tags": []
   },
   "outputs": [],
   "source": [
    "import itertools\n",
    "def read_files(file_names, num_to_read=1000):\n",
    "    X_train = []\n",
    "    Y_train = {}\n",
    "    for c in categories:\n",
    "        Y_train[c] = []\n",
    "    for f in file_names[:num_to_read]: #we are not loading the entire dataset due to processing time\n",
    "        if not os.path.exists(os.path.join(features_dir , f.split('.')[0] + '.npz')):\n",
    "            continue\n",
    "        features = np.load(os.path.join(features_dir , f.split('.')[0] + '.npz'))[\"embeddings\"]\n",
    "        X_train.append(features)\n",
    "        y = np.load(os.path.join(labels_dir , f.split('.')[0] + '_labels.npz'))\n",
    "        for c in categories:\n",
    "            _y = aggregate_labels(y[c])\n",
    "            Y_train[c].extend(list(itertools.chain.from_iterable(_y)))\n",
    "    X_train = np.concatenate(X_train)\n",
    "    return X_train, Y_train\n"
   ]
  },
  {
   "cell_type": "code",
   "execution_count": 6,
   "id": "f037c8ce",
   "metadata": {
    "editable": true,
    "slideshow": {
     "slide_type": "skip"
    },
    "tags": []
   },
   "outputs": [],
   "source": [
    "X_train, Y_train = read_files(train_files, 500)"
   ]
  },
  {
   "cell_type": "markdown",
   "id": "0f30a5ca",
   "metadata": {
    "editable": true,
    "slideshow": {
     "slide_type": "subslide"
    },
    "tags": []
   },
   "source": [
    "## Task 0: Baseline Classifier\n",
    "Create a binary classifier that predicts the class that is most frequent in the training dataset"
   ]
  },
  {
   "cell_type": "code",
   "execution_count": 10,
   "id": "f21e5177",
   "metadata": {
    "editable": true,
    "slideshow": {
     "slide_type": "fragment"
    },
    "tags": []
   },
   "outputs": [],
   "source": [
    "class Baseline_classifier():\n",
    "\n",
    "    def __init__(self):\n",
    "        self.majority_class = None\n",
    "\n",
    "    def fit(self, x_train, y_train):\n",
    "        '''x_train is a numpy array of features with shape NxD, where N is the number of datapoints and D the feature dimension\n",
    "        y_train is a list of binary labels in the shape Nx1\n",
    "        '''\n",
    "        self.majority_class =  1 if sum(y_train) > len(y_train) / 2 else 0\n",
    "\n",
    "    def predict(self, x):\n",
    "        '''x is a numpy array of features with shape NxD, where N is the number of datapoints and D the feature dimension\n",
    "        The function should return the predicted binary labels as a numpy array of shape Nx1\n",
    "        '''\n",
    "        predictions = np.zeros(x.shape[0]) + self.majority_class\n",
    "        return predictions\n"
   ]
  },
  {
   "cell_type": "markdown",
   "id": "37111dc5",
   "metadata": {
    "editable": true,
    "slideshow": {
     "slide_type": "subslide"
    },
    "tags": []
   },
   "source": [
    "Let's use our baseline classifier to predict whether a sound is wind or not:"
   ]
  },
  {
   "cell_type": "code",
   "execution_count": 11,
   "id": "8cd61131",
   "metadata": {
    "editable": true,
    "slideshow": {
     "slide_type": "fragment"
    },
    "tags": []
   },
   "outputs": [],
   "source": [
    "wind_x, wind_y = X_train, np.array(Y_train['Wind'])"
   ]
  },
  {
   "cell_type": "code",
   "execution_count": 12,
   "id": "c954f31d",
   "metadata": {
    "editable": true,
    "slideshow": {
     "slide_type": "fragment"
    },
    "tags": []
   },
   "outputs": [
    {
     "name": "stdout",
     "output_type": "stream",
     "text": [
      "Training Fraction Correct: 0.97\n"
     ]
    }
   ],
   "source": [
    "baseline = Baseline_classifier()\n",
    "baseline.fit(wind_x, wind_y)\n",
    "\n",
    "y_train_pred = baseline.predict(wind_x)\n",
    "\n",
    "train_fraction_correct = np.mean(y_train_pred == wind_y)\n",
    "\n",
    "print(f\"Training Fraction Correct: {train_fraction_correct:.2f}\")"
   ]
  },
  {
   "cell_type": "markdown",
   "id": "e3b10b2d",
   "metadata": {
    "editable": true,
    "slideshow": {
     "slide_type": "fragment"
    },
    "tags": []
   },
   "source": [
    "This is already a very good accuracy. Does this mean our baseline classifier is actually good?"
   ]
  },
  {
   "cell_type": "markdown",
   "id": "7c043d27",
   "metadata": {
    "editable": true,
    "slideshow": {
     "slide_type": "subslide"
    },
    "tags": []
   },
   "source": [
    "This problem is caused by data imbalance. We will circle back to this when talking about evaluation metrics. Can you already think of better ways to estimate the model performance?"
   ]
  },
  {
   "cell_type": "markdown",
   "id": "8e6d6605",
   "metadata": {
    "editable": true,
    "slideshow": {
     "slide_type": "slide"
    },
    "tags": []
   },
   "source": [
    "## Data Split\n",
    "\n",
    "Would looking into the model's predictions on the whole dataset give us a good estimation of how well it has learned something?\n",
    "You may remember the KNN classifier from the lecture. Let's see how it performs on the following simple dataset:"
   ]
  },
  {
   "cell_type": "code",
   "execution_count": 13,
   "id": "fcaacce1",
   "metadata": {
    "editable": true,
    "slideshow": {
     "slide_type": "skip"
    },
    "tags": []
   },
   "outputs": [],
   "source": [
    "# Plotting function\n",
    "def plot_decision_boundary(knn, X, y, title, highlight_point=None):\n",
    "    h = 0.1\n",
    "    x_min, x_max = X[:, 0].min() - 1, X[:, 0].max() + 1\n",
    "    y_min, y_max = X[:, 1].min() - 1, X[:, 1].max() + 1\n",
    "    xx, yy = np.meshgrid(np.arange(x_min, x_max, h),\n",
    "                         np.arange(y_min, y_max, h))\n",
    "    Z = knn.predict(np.c_[xx.ravel(), yy.ravel()])\n",
    "    Z = Z.reshape(xx.shape)\n",
    "\n",
    "    plt.figure(figsize=(5, 3))\n",
    "    plt.contourf(xx, yy, Z, cmap='coolwarm', alpha=0.3)\n",
    "    plt.scatter(X[:, 0], X[:, 1], c=y, cmap='bwr', edgecolor='k', s=100, label='Train data')\n",
    "    if highlight_point is not None:\n",
    "        plt.scatter(highlight_point[0][0], highlight_point[0][1], color='gold', edgecolor='k',\n",
    "                    marker='*', s=250, label='Test point (not in train)')\n",
    "    plt.title(title)\n",
    "    plt.xlabel(\"Feature 1\")\n",
    "    plt.ylabel(\"Feature 2\")\n",
    "    plt.legend()\n",
    "    plt.grid(True)\n",
    "    plt.show()"
   ]
  },
  {
   "cell_type": "code",
   "execution_count": 14,
   "id": "251ace28",
   "metadata": {
    "editable": true,
    "slideshow": {
     "slide_type": "subslide"
    },
    "tags": []
   },
   "outputs": [
    {
     "data": {
      "image/png": "[encoded data removed]",
      "text/plain": [
       "<Figure size 500x300 with 1 Axes>"
      ]
     },
     "metadata": {},
     "output_type": "display_data"
    }
   ],
   "source": [
    "X_train = np.array([\n",
    "    [1, 1], [1, 2], [2, 1],        # Class 0\n",
    "    [5, 5], [5, 6], [6, 5]         # Class 1\n",
    "])\n",
    "y_train = np.array([0, 0, 0, 1, 1, 1])\n",
    "\n",
    "knn = KNeighborsClassifier(n_neighbors=1)\n",
    "knn.fit(X_train, y_train)\n",
    "\n",
    "plot_decision_boundary(knn, X_train, y_train, \"Before Adding Test Point\")"
   ]
  },
  {
   "cell_type": "markdown",
   "id": "1e003af7",
   "metadata": {
    "editable": true,
    "slideshow": {
     "slide_type": "subslide"
    },
    "tags": []
   },
   "source": [
    "The classes seem to be perfectly separated. Assuming the model works perfectly, we deploy it in a real world setting, and the first new data comes in:"
   ]
  },
  {
   "cell_type": "code",
   "execution_count": 15,
   "id": "2deaa15f",
   "metadata": {
    "editable": true,
    "slideshow": {
     "slide_type": "fragment"
    },
    "tags": []
   },
   "outputs": [
    {
     "data": {
      "image/png": "[encoded data removed]",
      "text/plain": [
       "<Figure size 500x300 with 1 Axes>"
      ]
     },
     "metadata": {},
     "output_type": "display_data"
    }
   ],
   "source": [
    "test_point = np.array([[3, 3]])    \n",
    "true_label = np.array([1])\n",
    "\n",
    "pred_before = knn.predict(test_point)\n",
    "\n",
    "plot_decision_boundary(knn, X_train, y_train, \"The new test point is added\", highlight_point=test_point)"
   ]
  },
  {
   "cell_type": "markdown",
   "id": "c3391cf9",
   "metadata": {
    "editable": true,
    "slideshow": {
     "slide_type": "subslide"
    },
    "tags": []
   },
   "source": [
    "So, the predictions of the model may not be as good as we expect. To get a more realistic estimation of how a model is performing, we can put a part of the dataset aside and look at how the model performs on this set. The sklearn library has a function for this [train_test_split](https://scikit-learn.org/stable/modules/generated/sklearn.model_selection.train_test_split.html)"
   ]
  },
  {
   "cell_type": "markdown",
   "id": "cfc72843",
   "metadata": {
    "editable": true,
    "slideshow": {
     "slide_type": "fragment"
    },
    "tags": []
   },
   "source": [
    "Let's repeat the experiment on our own dataset for class wind:"
   ]
  },
  {
   "cell_type": "code",
   "execution_count": null,
   "id": "4e7e5105",
   "metadata": {
    "editable": true,
    "slideshow": {
     "slide_type": "subslide"
    },
    "tags": []
   },
   "outputs": [],
   "source": [
    "# Split data\n",
    "X_train_wind, X_test_wind, y_train_wind, y_test_wind = train_test_split(\n",
    "    wind_x, wind_y, test_size=0.3, random_state=42\n",
    ")\n",
    "\n",
    "# Train model\n",
    "knn = KNeighborsClassifier(n_neighbors=1)\n",
    "knn.fit(X_train_wind, y_train_wind)\n",
    "\n",
    "# Predictions\n",
    "y_train_pred = knn.predict(X_train_wind)\n",
    "y_test_pred = knn.predict(X_test_wind)\n",
    "\n",
    "# Create subplots\n",
    "fig, axes = plt.subplots(1, 2, figsize=(8, 3))  # Side by side, smaller overall size\n",
    "\n",
    "# Train confusion matrix\n",
    "cm_train = confusion_matrix(y_train_wind, y_train_pred)\n",
    "disp_train = ConfusionMatrixDisplay(confusion_matrix=cm_train, display_labels=knn.classes_)\n",
    "disp_train.plot(cmap='Blues', ax=axes[0], colorbar=False)\n",
    "axes[0].set_title(\"Confusion Matrix - Train Set\")\n",
    "\n",
    "# Test confusion matrix\n",
    "cm_test = confusion_matrix(y_test_wind, y_test_pred)\n",
    "disp_test = ConfusionMatrixDisplay(confusion_matrix=cm_test, display_labels=knn.classes_)\n",
    "disp_test.plot(cmap='Blues', ax=axes[1], colorbar=False)\n",
    "axes[1].set_title(\"Confusion Matrix - Test Set\")\n",
    "\n",
    "plt.tight_layout()\n",
    "plt.show()\n"
   ]
  },
  {
   "cell_type": "markdown",
   "id": "febfa43c",
   "metadata": {
    "editable": true,
    "slideshow": {
     "slide_type": "subslide"
    },
    "tags": []
   },
   "source": [
    "Assuming that the distribution of our data matches that of the \"real data\", this will usually give us a better estimation of how the model performs. But this is still not quite accurate for a dataset similar to ours, due to a problem referred to as data leakage."
   ]
  },
  {
   "cell_type": "markdown",
   "id": "bf089265",
   "metadata": {
    "editable": true,
    "slideshow": {
     "slide_type": "fragment"
    },
    "tags": []
   },
   "source": [
    "Data leakage occurs when a model has access to information during training that would not be available at prediction time — often leading to overly optimistic performance. Why is this problem relevant to us?"
   ]
  },
  {
   "cell_type": "markdown",
   "id": "2532c03f",
   "metadata": {
    "editable": true,
    "slideshow": {
     "slide_type": "fragment"
    },
    "tags": []
   },
   "source": [
    "train_test_split splits the data randomly. If you apply it directly on the frame level, frames from the same original audio file may end up in both the training and test sets.\n",
    "\n",
    "Since consecutive frames are highly correlated (they come from the same source), this violates the assumption that the test set is unseen data. As a result:\n",
    "\n",
    "The model might \"memorize\" patterns from specific files and the evaluation metrics will be overly optimistic and misleading."
   ]
  },
  {
   "cell_type": "markdown",
   "id": "5ccbb9df",
   "metadata": {
    "editable": true,
    "slideshow": {
     "slide_type": "subslide"
    },
    "tags": []
   },
   "source": [
    "## taks 1:\n",
    "How do we prevent data leakage in our dataset?"
   ]
  },
  {
   "cell_type": "code",
   "execution_count": null,
   "id": "9238051e",
   "metadata": {
    "editable": true,
    "slideshow": {
     "slide_type": "fragment"
    },
    "tags": []
   },
   "outputs": [],
   "source": [
    "# raise NotImplementedError\n",
    "\n",
    "#solution\n",
    "train_files = metadata.sample(len(metadata), random_state=42)[\"filename\"].unique()[:int(len(metadata)*0.8)]\n",
    "test_files = metadata.sample(len(metadata), random_state=42)[\"filename\"].unique()[int(len(metadata)*0.8):]\n",
    "\n",
    "X_train, Y_train = read_files(train_files, 500)\n",
    "X_test, Y_test = read_files(test_files, 100)"
   ]
  },
  {
   "cell_type": "code",
   "execution_count": 18,
   "id": "84267b83",
   "metadata": {
    "editable": true,
    "slideshow": {
     "slide_type": "subslide"
    },
    "tags": []
   },
   "outputs": [
    {
     "data": {
      "image/png": "[encoded data removed]",
      "text/plain": [
       "<Figure size 800x300 with 2 Axes>"
      ]
     },
     "metadata": {},
     "output_type": "display_data"
    }
   ],
   "source": [
    "wind_x_train, wind_y_train = X_train, np.array(Y_train['Wind'])\n",
    "wind_x_test, wind_y_test = X_test, np.array(Y_test['Wind'])\n",
    "\n",
    "knn = KNeighborsClassifier(n_neighbors=1)\n",
    "knn.fit(wind_x_train, wind_y_train)\n",
    "\n",
    "y_train_pred = knn.predict(wind_x_train)\n",
    "y_test_pred = knn.predict(wind_x_test)\n",
    "\n",
    "\n",
    "# Create subplots\n",
    "fig, axes = plt.subplots(1, 2, figsize=(8, 3))  # Side by side, smaller overall size\n",
    "\n",
    "# Train confusion matrix\n",
    "cm_train = confusion_matrix(wind_y_train, y_train_pred)\n",
    "disp_train = ConfusionMatrixDisplay(confusion_matrix=cm_train, display_labels=knn.classes_)\n",
    "disp_train.plot(cmap='Blues', ax=axes[0], colorbar=False)\n",
    "axes[0].set_title(\"Confusion Matrix - Train Set\")\n",
    "\n",
    "# Test confusion matrix\n",
    "cm_test = confusion_matrix(wind_y_test, y_test_pred)\n",
    "disp_test = ConfusionMatrixDisplay(confusion_matrix=cm_test, display_labels=knn.classes_)\n",
    "disp_test.plot(cmap='Blues', ax=axes[1], colorbar=False)\n",
    "axes[1].set_title(\"Confusion Matrix - Test Set\")\n",
    "\n",
    "plt.tight_layout()\n",
    "plt.show()\n"
   ]
  },
  {
   "cell_type": "markdown",
   "id": "ab14fb21",
   "metadata": {
    "editable": true,
    "slideshow": {
     "slide_type": "subslide"
    },
    "tags": []
   },
   "source": [
    "We have tried two models so far. Often when training a classifier we consider different model classes, and each with a set of hyper parameters.  \n",
    "\n",
    "Could we use the performance on the test set to choose the best classifier?"
   ]
  },
  {
   "cell_type": "markdown",
   "id": "dccb1df6",
   "metadata": {
    "editable": true,
    "slideshow": {
     "slide_type": "fragment"
    },
    "tags": []
   },
   "source": [
    "No, you should not use the test set to choose the best classifier or tune hyperparameters — that would lead to data leakage and overestimate your model’s true performance.\n",
    "\n",
    "The test set is our unseen data, and if we select the model class and hyperparameters based on that, then the model has indirectly “seen” the test data and the evaluation becomes optimistic and less reliable. To avoid this, we put aside another section of data as the validation set."
   ]
  },
  {
   "cell_type": "code",
   "execution_count": 19,
   "id": "66ed6c92",
   "metadata": {
    "editable": true,
    "slideshow": {
     "slide_type": "fragment"
    },
    "tags": []
   },
   "outputs": [],
   "source": [
    "train_files = metadata.sample(len(metadata), random_state=42)[\"filename\"].unique()[:int(len(metadata)*0.7)]\n",
    "validation_files = metadata.sample(len(metadata), random_state=42)[\"filename\"].unique()[int(len(metadata)*0.7):int(len(metadata)*0.9)]\n",
    "test_files = metadata.sample(len(metadata), random_state=42)[\"filename\"].unique()[int(len(metadata)*0.9):]\n",
    "#So final split: 70% train, 20% val, 10% test\n"
   ]
  },
  {
   "cell_type": "markdown",
   "id": "c46350a1",
   "metadata": {
    "editable": true,
    "slideshow": {
     "slide_type": "slide"
    },
    "tags": []
   },
   "source": [
    "## Performance Metrics"
   ]
  },
  {
   "cell_type": "markdown",
   "id": "866650f8",
   "metadata": {
    "editable": true,
    "slideshow": {
     "slide_type": "fragment"
    },
    "tags": []
   },
   "source": [
    "| Metric                   | Description                                                 | When It's Useful                                                       |\n",
    "| ------------------------ | ----------------------------------------------------------- | ---------------------------------------------------------------------- |\n",
    "| **Accuracy**             | % of correct predictions `(TP + TN) / Total`                | Simple, but **misleading with imbalanced data**                        |\n",
    "| **Precision**            | How many predicted positives were correct: `TP / (TP + FP)` | Important when **false positives** are costly (e.g., spam filters)     |\n",
    "| **Recall (Sensitivity)** | How many actual positives were caught: `TP / (TP + FN)`     | Critical when **false negatives** are costly (e.g., medical diagnosis) |\n",
    "| **F1 Score**             | Harmonic mean of precision and recall                       | Good **balance** when classes are imbalanced                           |\n",
    "| **ROC AUC**              | Measures ranking ability over all thresholds                | Good for **probabilistic models**; not sensitive to threshold          |\n",
    "| **PR AUC**               | Area under Precision-Recall curve                           | Better than ROC AUC for **imbalanced data**                            |\n"
   ]
  },
  {
   "cell_type": "code",
   "execution_count": 20,
   "id": "8718a3f1",
   "metadata": {
    "editable": true,
    "slideshow": {
     "slide_type": "subslide"
    },
    "tags": []
   },
   "outputs": [
    {
     "name": "stdout",
     "output_type": "stream",
     "text": [
      "Accuracy:         0.955\n",
      "Weighted Accuracy:0.674\n",
      "Precision:        0.366\n",
      "Recall:           0.371\n",
      "F1 Score:         0.368\n",
      "ROC AUC:          0.674\n",
      "PR AUC:           0.158\n"
     ]
    }
   ],
   "source": [
    "from sklearn.metrics import (\n",
    "    accuracy_score, precision_score, recall_score, f1_score,\n",
    "    roc_auc_score, average_precision_score, balanced_accuracy_score\n",
    ")\n",
    "\n",
    "# y_true: ground truth labels\n",
    "# y_pred: predicted class labels (e.g., 0 or 1)\n",
    "# y_scores: predicted probabilities or decision function scores\n",
    "\n",
    "accuracy      = accuracy_score(wind_y_test, y_test_pred)\n",
    "precision     = precision_score(wind_y_test, y_test_pred, zero_division=0)\n",
    "recall        = recall_score(wind_y_test, y_test_pred)\n",
    "f1            = f1_score(wind_y_test, y_test_pred)\n",
    "roc_auc       = roc_auc_score(wind_y_test, y_test_pred)\n",
    "pr_auc        = average_precision_score(wind_y_test, y_test_pred)\n",
    "weighted_acc  = balanced_accuracy_score(wind_y_test, y_test_pred)\n",
    "\n",
    "print(f\"Accuracy:         {accuracy:.3f}\")\n",
    "print(f\"Weighted Accuracy:{weighted_acc:.3f}\")\n",
    "print(f\"Precision:        {precision:.3f}\")\n",
    "print(f\"Recall:           {recall:.3f}\")\n",
    "print(f\"F1 Score:         {f1:.3f}\")\n",
    "print(f\"ROC AUC:          {roc_auc:.3f}\")\n",
    "print(f\"PR AUC:           {pr_auc:.3f}\")\n"
   ]
  },
  {
   "cell_type": "markdown",
   "id": "1cdc04c8",
   "metadata": {
    "editable": true,
    "slideshow": {
     "slide_type": "slide"
    },
    "tags": []
   },
   "source": [
    "## Training Classifiers"
   ]
  },
  {
   "cell_type": "markdown",
   "id": "646d9216",
   "metadata": {
    "editable": true,
    "slideshow": {
     "slide_type": "subslide"
    },
    "tags": []
   },
   "source": [
    "Now we can move on to training classifiers. Let's start be training a very simple Decision Tree.  \n",
    "A **Decision Tree** is a model that splits data by asking feature-based questions, forming a tree structure.  "
   ]
  },
  {
   "cell_type": "code",
   "execution_count": 21,
   "id": "be85014c",
   "metadata": {
    "editable": true,
    "slideshow": {
     "slide_type": "skip"
    },
    "tags": []
   },
   "outputs": [],
   "source": [
    "X_train, Y_train = read_files(train_files, 500)\n",
    "X_test, Y_test = read_files(test_files, 50)\n",
    "X_val, Y_val = read_files(validation_files, 100)\n",
    "\n",
    "#subsampling the training data to reduce run time\n",
    "sample_size = 1000\n",
    "indices = np.random.choice(len(X_train), size=sample_size, replace=False)\n",
    "\n",
    "X_train = X_train[indices]\n",
    "for c in categories:\n",
    "    Y_train[c] = [Y_train[c][i] for i in indices]\n",
    "\n",
    "\n",
    "wind_x_train, wind_y_train = X_train, np.array(Y_train['Wind'])\n",
    "wind_x_test, wind_y_test = X_test, np.array(Y_test['Wind'])\n",
    "wind_x_val, wind_y_val = X_val, np.array(Y_val['Wind'])"
   ]
  },
  {
   "cell_type": "code",
   "execution_count": 22,
   "id": "1fdf2598",
   "metadata": {
    "editable": true,
    "slideshow": {
     "slide_type": "fragment"
    },
    "tags": []
   },
   "outputs": [],
   "source": [
    "from sklearn.tree import DecisionTreeClassifier\n",
    "\n",
    "# Define the model\n",
    "dt = DecisionTreeClassifier(random_state=42)"
   ]
  },
  {
   "cell_type": "markdown",
   "id": "83c61cbb",
   "metadata": {
    "editable": true,
    "slideshow": {
     "slide_type": "subslide"
    },
    "tags": []
   },
   "source": [
    "The DT classifier has several patameters we can experiment with. Let's pick a few to explore"
   ]
  },
  {
   "cell_type": "code",
   "execution_count": 23,
   "id": "9ae7f275",
   "metadata": {
    "editable": true,
    "slideshow": {
     "slide_type": "fragment"
    },
    "tags": []
   },
   "outputs": [],
   "source": [
    "param_grid = {\n",
    "    'max_depth': [3, 5, 10, None],\n",
    "    'min_samples_split': [2, 5, 10],\n",
    "    'criterion': ['gini', 'entropy']\n",
    "}\n",
    "best_score = 0\n",
    "best_params = None\n",
    "best_model = None"
   ]
  },
  {
   "cell_type": "code",
   "execution_count": 24,
   "id": "deb96699",
   "metadata": {
    "editable": true,
    "slideshow": {
     "slide_type": "subslide"
    },
    "tags": []
   },
   "outputs": [
    {
     "name": "stdout",
     "output_type": "stream",
     "text": [
      "Params: max_depth=3, min_samples_split=2, criterion=gini --> Accuracy: 0.4919\n",
      "Params: max_depth=3, min_samples_split=2, criterion=entropy --> Accuracy: 0.8796\n",
      "Params: max_depth=3, min_samples_split=5, criterion=gini --> Accuracy: 0.4919\n",
      "Params: max_depth=3, min_samples_split=5, criterion=entropy --> Accuracy: 0.8796\n",
      "Params: max_depth=3, min_samples_split=10, criterion=gini --> Accuracy: 0.4919\n",
      "Params: max_depth=3, min_samples_split=10, criterion=entropy --> Accuracy: 0.8796\n",
      "Params: max_depth=5, min_samples_split=2, criterion=gini --> Accuracy: 0.4905\n",
      "Params: max_depth=5, min_samples_split=2, criterion=entropy --> Accuracy: 0.8128\n",
      "Params: max_depth=5, min_samples_split=5, criterion=gini --> Accuracy: 0.4905\n",
      "Params: max_depth=5, min_samples_split=5, criterion=entropy --> Accuracy: 0.8128\n",
      "Params: max_depth=5, min_samples_split=10, criterion=gini --> Accuracy: 0.4905\n",
      "Params: max_depth=5, min_samples_split=10, criterion=entropy --> Accuracy: 0.8130\n",
      "Params: max_depth=10, min_samples_split=2, criterion=gini --> Accuracy: 0.4856\n",
      "Params: max_depth=10, min_samples_split=2, criterion=entropy --> Accuracy: 0.8128\n",
      "Params: max_depth=10, min_samples_split=5, criterion=gini --> Accuracy: 0.4856\n",
      "Params: max_depth=10, min_samples_split=5, criterion=entropy --> Accuracy: 0.8128\n",
      "Params: max_depth=10, min_samples_split=10, criterion=gini --> Accuracy: 0.4856\n",
      "Params: max_depth=10, min_samples_split=10, criterion=entropy --> Accuracy: 0.8130\n",
      "Params: max_depth=None, min_samples_split=2, criterion=gini --> Accuracy: 0.4888\n",
      "Params: max_depth=None, min_samples_split=2, criterion=entropy --> Accuracy: 0.8128\n",
      "Params: max_depth=None, min_samples_split=5, criterion=gini --> Accuracy: 0.4888\n",
      "Params: max_depth=None, min_samples_split=5, criterion=entropy --> Accuracy: 0.8128\n",
      "Params: max_depth=None, min_samples_split=10, criterion=gini --> Accuracy: 0.4882\n",
      "Params: max_depth=None, min_samples_split=10, criterion=entropy --> Accuracy: 0.8130\n",
      "\n",
      "Best Parameters:\n",
      "{'max_depth': 3, 'min_samples_split': 2, 'criterion': 'entropy'}\n",
      "Best Validation Accuracy: 0.8796\n"
     ]
    }
   ],
   "source": [
    "# Generate all combinations of hyperparameters\n",
    "for max_depth, min_samples_split, criterion in itertools.product(\n",
    "    param_grid['max_depth'],\n",
    "    param_grid['min_samples_split'],\n",
    "    param_grid['criterion']\n",
    "):\n",
    "    model = DecisionTreeClassifier(max_depth=max_depth,min_samples_split=min_samples_split,criterion=criterion,random_state=42)\n",
    "    model.fit(wind_x_train, wind_y_train)\n",
    "\n",
    "    y_val_pred = model.predict(wind_x_val)\n",
    "    score = balanced_accuracy_score(wind_y_val, y_val_pred)\n",
    "    print(f\"Params: max_depth={max_depth}, min_samples_split={min_samples_split}, criterion={criterion} --> Accuracy: {score:.4f}\")\n",
    "\n",
    "    if score > best_score:\n",
    "        best_score = score\n",
    "        best_params = {\n",
    "            'max_depth': max_depth,\n",
    "            'min_samples_split': min_samples_split,\n",
    "            'criterion': criterion\n",
    "        }\n",
    "        best_model = model\n",
    "print(\"\\nBest Parameters:\")\n",
    "print(best_params)\n",
    "print(f\"Best Validation Accuracy: {best_score:.4f}\")\n"
   ]
  },
  {
   "cell_type": "markdown",
   "id": "425ba7fe",
   "metadata": {
    "editable": true,
    "slideshow": {
     "slide_type": "slide"
    },
    "tags": []
   },
   "source": [
    "## Multi-Label vs Multi-Class classfication"
   ]
  },
  {
   "cell_type": "markdown",
   "id": "9caa08ad",
   "metadata": {
    "editable": true,
    "slideshow": {
     "slide_type": "fragment"
    },
    "tags": []
   },
   "source": [
    "The classifiers we looked into were all **binary** classifiers, and simply distinguish if a datapoint belongs in a class or not. Among non-binary classification problems, two common sets of classes are **Multi-Label Classification** and **Multi-Class Classification**."
   ]
  },
  {
   "cell_type": "markdown",
   "id": "b17bc9bb",
   "metadata": {
    "editable": true,
    "slideshow": {
     "slide_type": "fragment"
    },
    "tags": []
   },
   "source": [
    "- Multi-Class: We have n possible classes, where each instance belongs to exactly one class.\n",
    "- Multi-Label: We have n possible classes, and each instance can belong to multiple classes (or none).  \n",
    "\n",
    "Which description fits our task better?"
   ]
  },
  {
   "cell_type": "markdown",
   "id": "e1ce6402",
   "metadata": {
    "editable": true,
    "slideshow": {
     "slide_type": "subslide"
    },
    "tags": []
   },
   "source": [
    "In our dataset we have a set of sound events that can happen simultaniously and in the same audio frame. This turns our problem into a multi-label classification problem. One simple was of performing this type of classification is to have one binary classfier per class, working independantly. Can you think of a better solution?"
   ]
  },
  {
   "cell_type": "code",
   "execution_count": 25,
   "id": "b2a4cd78",
   "metadata": {
    "editable": true,
    "slideshow": {
     "slide_type": "skip"
    },
    "tags": []
   },
   "outputs": [],
   "source": [
    "selected_classes = {'Alarm', 'Wind', 'Dog Bark'}\n",
    "\n",
    "y_train = np.array([Y_train[cls] for cls in selected_classes]).T\n",
    "y_val = np.array([Y_val[cls] for cls in selected_classes]).T\n",
    "y_test = np.array([Y_test[cls] for cls in selected_classes]).T"
   ]
  },
  {
   "cell_type": "code",
   "execution_count": 26,
   "id": "d9d70eb7",
   "metadata": {
    "editable": true,
    "slideshow": {
     "slide_type": "fragment"
    },
    "tags": []
   },
   "outputs": [],
   "source": [
    "from sklearn.tree import DecisionTreeClassifier\n",
    "from sklearn.multioutput import MultiOutputClassifier\n",
    "\n",
    "X = X_train\n",
    "Y = y_train\n",
    "\n",
    "base_clf = DecisionTreeClassifier()\n",
    "\n",
    "br_clf = MultiOutputClassifier(base_clf)\n",
    "\n",
    "br_clf.fit(X, Y)\n",
    "\n",
    "Y_pred = br_clf.predict(X_val)"
   ]
  },
  {
   "cell_type": "code",
   "execution_count": 27,
   "id": "159a35c8",
   "metadata": {
    "editable": true,
    "slideshow": {
     "slide_type": "fragment"
    },
    "tags": []
   },
   "outputs": [
    {
     "name": "stdout",
     "output_type": "stream",
     "text": [
      "Macro-Averaged Balanced Accuracy: 0.666563965864554\n"
     ]
    },
    {
     "name": "stderr",
     "output_type": "stream",
     "text": [
      "/home/tara/miniconda3/envs/ai2024/lib/python3.12/site-packages/sklearn/metrics/_classification.py:2524: UserWarning: y_pred contains classes not in y_true\n",
      "  warnings.warn(\"y_pred contains classes not in y_true\")\n"
     ]
    }
   ],
   "source": [
    "from sklearn.metrics import balanced_accuracy_score\n",
    "import numpy as np\n",
    "\n",
    "n_labels = y_val.shape[1]\n",
    "balanced_accuracies = []\n",
    "\n",
    "for i in range(n_labels):\n",
    "    score = balanced_accuracy_score(y_val[:, i], Y_pred[:, i])\n",
    "    balanced_accuracies.append(score)\n",
    "\n",
    "# Macro-average across labels\n",
    "balanced_accuracy_macro = np.mean(balanced_accuracies)\n",
    "\n",
    "print(\"Macro-Averaged Balanced Accuracy:\", balanced_accuracy_macro)"
   ]
  },
  {
   "cell_type": "markdown",
   "id": "ba36e2a3",
   "metadata": {
    "editable": true,
    "slideshow": {
     "slide_type": "subslide"
    },
    "tags": []
   },
   "source": [
    "## Task 2: \n",
    "train a [Random Forest Classifier](https://scikit-learn.org/stable/modules/generated/sklearn.ensemble.RandomForestClassifier.html) for multi-label classification and report your results. Take a look at the documentation and choose hyperparameters that you think would work best."
   ]
  },
  {
   "cell_type": "code",
   "execution_count": null,
   "id": "c4198c76",
   "metadata": {
    "editable": true,
    "slideshow": {
     "slide_type": ""
    },
    "tags": []
   },
   "outputs": [],
   "source": [
    "raise NotImplementedError"
   ]
  }
 ],
 "metadata": {
  "kernelspec": {
   "display_name": "mlpc2025",
   "language": "python",
   "name": "python3"
  },
  "language_info": {
   "codemirror_mode": {
    "name": "ipython",
    "version": 3
   },
   "file_extension": ".py",
   "mimetype": "text/x-python",
   "name": "python",
   "nbconvert_exporter": "python",
   "pygments_lexer": "ipython3",
   "version": "3.12.9"
  },
  "rise": {
   "height": "90%",
   "width": "90%"
  },
  "toc": {
   "base_numbering": 1
  }
 },
 "nbformat": 4,
 "nbformat_minor": 5
}
